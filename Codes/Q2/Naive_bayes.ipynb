{
 "cells": [
  {
   "cell_type": "code",
   "execution_count": 28,
   "metadata": {
    "collapsed": true
   },
   "outputs": [],
   "source": [
    "import pandas as pd\n",
    "import matplotlib.pyplot as plt\n",
    "import numpy as np\n",
    "import seaborn as sns"
   ]
  },
  {
   "cell_type": "code",
   "execution_count": 29,
   "metadata": {
    "collapsed": true
   },
   "outputs": [],
   "source": [
    "irisDf = pd.read_csv('../datasets/Data_Q2/iris.csv')         #loading data"
   ]
  },
  {
   "cell_type": "code",
   "execution_count": 30,
   "metadata": {},
   "outputs": [
    {
     "name": "stdout",
     "output_type": "stream",
     "text": [
      "    sl   sw   pl   pw species\n",
      "0  5.1  3.5  1.4  0.2  setosa\n",
      "1  4.9  3.0  1.4  0.2  setosa\n",
      "2  4.7  3.2  1.3  0.2  setosa\n",
      "3  4.6  3.1  1.5  0.2  setosa\n",
      "4  5.0  3.6  1.4  0.2  setosa\n"
     ]
    }
   ],
   "source": [
    "irisDf = irisDf.rename(columns={'sepal_length': 'sl', 'sepal_width': 'sw' , 'petal_length':'pl' , 'petal_width' : 'pw'})\n",
    "print(irisDf.head())    \n",
    "\n",
    "#for ease we hv renamed column names"
   ]
  },
  {
   "cell_type": "code",
   "execution_count": 31,
   "metadata": {},
   "outputs": [
    {
     "data": {
      "text/plain": [
       "(150, 5)"
      ]
     },
     "execution_count": 31,
     "metadata": {},
     "output_type": "execute_result"
    }
   ],
   "source": [
    "irisDf.shape"
   ]
  },
  {
   "cell_type": "code",
   "execution_count": 32,
   "metadata": {},
   "outputs": [
    {
     "data": {
      "text/html": [
       "<div>\n",
       "<style>\n",
       "    .dataframe thead tr:only-child th {\n",
       "        text-align: right;\n",
       "    }\n",
       "\n",
       "    .dataframe thead th {\n",
       "        text-align: left;\n",
       "    }\n",
       "\n",
       "    .dataframe tbody tr th {\n",
       "        vertical-align: top;\n",
       "    }\n",
       "</style>\n",
       "<table border=\"1\" class=\"dataframe\">\n",
       "  <thead>\n",
       "    <tr style=\"text-align: right;\">\n",
       "      <th></th>\n",
       "      <th>sl</th>\n",
       "      <th>sw</th>\n",
       "      <th>pl</th>\n",
       "      <th>pw</th>\n",
       "      <th>species</th>\n",
       "    </tr>\n",
       "  </thead>\n",
       "  <tbody>\n",
       "    <tr>\n",
       "      <th>0</th>\n",
       "      <td>5.1</td>\n",
       "      <td>3.5</td>\n",
       "      <td>1.4</td>\n",
       "      <td>0.2</td>\n",
       "      <td>setosa</td>\n",
       "    </tr>\n",
       "    <tr>\n",
       "      <th>1</th>\n",
       "      <td>4.9</td>\n",
       "      <td>3.0</td>\n",
       "      <td>1.4</td>\n",
       "      <td>0.2</td>\n",
       "      <td>setosa</td>\n",
       "    </tr>\n",
       "    <tr>\n",
       "      <th>2</th>\n",
       "      <td>4.7</td>\n",
       "      <td>3.2</td>\n",
       "      <td>1.3</td>\n",
       "      <td>0.2</td>\n",
       "      <td>setosa</td>\n",
       "    </tr>\n",
       "    <tr>\n",
       "      <th>3</th>\n",
       "      <td>4.6</td>\n",
       "      <td>3.1</td>\n",
       "      <td>1.5</td>\n",
       "      <td>0.2</td>\n",
       "      <td>setosa</td>\n",
       "    </tr>\n",
       "    <tr>\n",
       "      <th>4</th>\n",
       "      <td>5.0</td>\n",
       "      <td>3.6</td>\n",
       "      <td>1.4</td>\n",
       "      <td>0.2</td>\n",
       "      <td>setosa</td>\n",
       "    </tr>\n",
       "  </tbody>\n",
       "</table>\n",
       "</div>"
      ],
      "text/plain": [
       "    sl   sw   pl   pw species\n",
       "0  5.1  3.5  1.4  0.2  setosa\n",
       "1  4.9  3.0  1.4  0.2  setosa\n",
       "2  4.7  3.2  1.3  0.2  setosa\n",
       "3  4.6  3.1  1.5  0.2  setosa\n",
       "4  5.0  3.6  1.4  0.2  setosa"
      ]
     },
     "execution_count": 32,
     "metadata": {},
     "output_type": "execute_result"
    }
   ],
   "source": [
    "irisDf.head()"
   ]
  },
  {
   "cell_type": "code",
   "execution_count": 33,
   "metadata": {},
   "outputs": [
    {
     "data": {
      "text/plain": [
       "virginica     50\n",
       "versicolor    50\n",
       "setosa        50\n",
       "Name: species, dtype: int64"
      ]
     },
     "execution_count": 33,
     "metadata": {},
     "output_type": "execute_result"
    }
   ],
   "source": [
    "irisDf['species'].value_counts()        # verifying balanced dataset"
   ]
  },
  {
   "cell_type": "code",
   "execution_count": 34,
   "metadata": {},
   "outputs": [
    {
     "name": "stdout",
     "output_type": "stream",
     "text": [
      "<class 'pandas.core.frame.DataFrame'>\n",
      "RangeIndex: 150 entries, 0 to 149\n",
      "Data columns (total 5 columns):\n",
      "sl         150 non-null float64\n",
      "sw         150 non-null float64\n",
      "pl         150 non-null float64\n",
      "pw         150 non-null float64\n",
      "species    150 non-null object\n",
      "dtypes: float64(4), object(1)\n",
      "memory usage: 5.9+ KB\n"
     ]
    }
   ],
   "source": [
    "irisDf.info()       # there are no null values in any feature cell"
   ]
  },
  {
   "cell_type": "code",
   "execution_count": 35,
   "metadata": {},
   "outputs": [
    {
     "data": {
      "text/html": [
       "<div>\n",
       "<style>\n",
       "    .dataframe thead tr:only-child th {\n",
       "        text-align: right;\n",
       "    }\n",
       "\n",
       "    .dataframe thead th {\n",
       "        text-align: left;\n",
       "    }\n",
       "\n",
       "    .dataframe tbody tr th {\n",
       "        vertical-align: top;\n",
       "    }\n",
       "</style>\n",
       "<table border=\"1\" class=\"dataframe\">\n",
       "  <thead>\n",
       "    <tr style=\"text-align: right;\">\n",
       "      <th></th>\n",
       "      <th>sl</th>\n",
       "      <th>sw</th>\n",
       "      <th>pl</th>\n",
       "      <th>pw</th>\n",
       "    </tr>\n",
       "  </thead>\n",
       "  <tbody>\n",
       "    <tr>\n",
       "      <th>count</th>\n",
       "      <td>150.000000</td>\n",
       "      <td>150.000000</td>\n",
       "      <td>150.000000</td>\n",
       "      <td>150.000000</td>\n",
       "    </tr>\n",
       "    <tr>\n",
       "      <th>mean</th>\n",
       "      <td>5.843333</td>\n",
       "      <td>3.054000</td>\n",
       "      <td>3.758667</td>\n",
       "      <td>1.198667</td>\n",
       "    </tr>\n",
       "    <tr>\n",
       "      <th>std</th>\n",
       "      <td>0.828066</td>\n",
       "      <td>0.433594</td>\n",
       "      <td>1.764420</td>\n",
       "      <td>0.763161</td>\n",
       "    </tr>\n",
       "    <tr>\n",
       "      <th>min</th>\n",
       "      <td>4.300000</td>\n",
       "      <td>2.000000</td>\n",
       "      <td>1.000000</td>\n",
       "      <td>0.100000</td>\n",
       "    </tr>\n",
       "    <tr>\n",
       "      <th>25%</th>\n",
       "      <td>5.100000</td>\n",
       "      <td>2.800000</td>\n",
       "      <td>1.600000</td>\n",
       "      <td>0.300000</td>\n",
       "    </tr>\n",
       "    <tr>\n",
       "      <th>50%</th>\n",
       "      <td>5.800000</td>\n",
       "      <td>3.000000</td>\n",
       "      <td>4.350000</td>\n",
       "      <td>1.300000</td>\n",
       "    </tr>\n",
       "    <tr>\n",
       "      <th>75%</th>\n",
       "      <td>6.400000</td>\n",
       "      <td>3.300000</td>\n",
       "      <td>5.100000</td>\n",
       "      <td>1.800000</td>\n",
       "    </tr>\n",
       "    <tr>\n",
       "      <th>max</th>\n",
       "      <td>7.900000</td>\n",
       "      <td>4.400000</td>\n",
       "      <td>6.900000</td>\n",
       "      <td>2.500000</td>\n",
       "    </tr>\n",
       "  </tbody>\n",
       "</table>\n",
       "</div>"
      ],
      "text/plain": [
       "               sl          sw          pl          pw\n",
       "count  150.000000  150.000000  150.000000  150.000000\n",
       "mean     5.843333    3.054000    3.758667    1.198667\n",
       "std      0.828066    0.433594    1.764420    0.763161\n",
       "min      4.300000    2.000000    1.000000    0.100000\n",
       "25%      5.100000    2.800000    1.600000    0.300000\n",
       "50%      5.800000    3.000000    4.350000    1.300000\n",
       "75%      6.400000    3.300000    5.100000    1.800000\n",
       "max      7.900000    4.400000    6.900000    2.500000"
      ]
     },
     "execution_count": 35,
     "metadata": {},
     "output_type": "execute_result"
    }
   ],
   "source": [
    "irisDf.describe()          #looking at statistical measures to get insights"
   ]
  },
  {
   "cell_type": "code",
   "execution_count": 36,
   "metadata": {
    "collapsed": true
   },
   "outputs": [],
   "source": [
    "# defining a function to find mean and std dev of all features for given class\n",
    "\n",
    "meanvector=[]\n",
    "features_count = irisDf.shape[1]-1\n",
    "\n",
    "def findMeanVector(df):\n",
    "    '''find mean vector for features of given dataframe'''\n",
    "    for i in range(0,features_count):\n",
    "        mean = df.ix[:,i].mean()\n",
    "        meanvector.insert(i,mean)\n",
    "        \n",
    "    return meanvector\n",
    "\n",
    "#defining a function to find std dev of all features for given class\n",
    "\n",
    "stdvector=[]\n",
    "features_count = irisDf.shape[1]-1\n",
    "\n",
    "def findStdVector(df):\n",
    "    '''find std dev vector for features of given dataframe'''\n",
    "    for i in range(0,features_count):\n",
    "        std = df.ix[:,i].std()\n",
    "        stdvector.insert(i,std)\n",
    "        \n",
    "    return stdvector\n"
   ]
  },
  {
   "cell_type": "code",
   "execution_count": 37,
   "metadata": {},
   "outputs": [
    {
     "data": {
      "text/plain": [
       "'\\n# this cell is just for testing\\n\\nmeanVector0 = findMeanVector(verdf)\\n#print(meanVector0)   # it is a mean of sl , sw, pl , pw of versicolor flower\\n \\nmeanVector1 = findMeanVector(virdf)\\n#print(meanVector1)   # it is a mean of sl , sw, pl , pw of virginica flower\\n \\nmeanVector2 = findMeanVector(setdf)\\n#print(meanVector2)   # it is a mean of sl , sw, pl , pw of setosa flower\\n \\nstdVector0 = findStdVector(verdf)\\n#print(stdVector0)   # it is a stddev of sl , sw, pl , pw of versicolor flower\\n \\nstdVector1 = findStdVector(virdf)\\n#print(stdVector1)   # it is a sd of sl , sw, pl , pw of virginica flower\\n \\nstdVector2 = findStdVector(setdf)\\n#print(stdVector2)   # it is a sd of sl , sw, pl , pw of setosa flower\\n '"
      ]
     },
     "execution_count": 37,
     "metadata": {},
     "output_type": "execute_result"
    }
   ],
   "source": [
    "'''\n",
    "# this cell is just for testing\n",
    "\n",
    "meanVector0 = findMeanVector(verdf)\n",
    "#print(meanVector0)   # it is a mean of sl , sw, pl , pw of versicolor flower\n",
    " \n",
    "meanVector1 = findMeanVector(virdf)\n",
    "#print(meanVector1)   # it is a mean of sl , sw, pl , pw of virginica flower\n",
    " \n",
    "meanVector2 = findMeanVector(setdf)\n",
    "#print(meanVector2)   # it is a mean of sl , sw, pl , pw of setosa flower\n",
    " \n",
    "stdVector0 = findStdVector(verdf)\n",
    "#print(stdVector0)   # it is a stddev of sl , sw, pl , pw of versicolor flower\n",
    " \n",
    "stdVector1 = findStdVector(virdf)\n",
    "#print(stdVector1)   # it is a sd of sl , sw, pl , pw of virginica flower\n",
    " \n",
    "stdVector2 = findStdVector(setdf)\n",
    "#print(stdVector2)   # it is a sd of sl , sw, pl , pw of setosa flower\n",
    " '''"
   ]
  },
  {
   "cell_type": "code",
   "execution_count": 38,
   "metadata": {
    "collapsed": true
   },
   "outputs": [],
   "source": [
    "#gaussain pdf : calculateProbability() function\n",
    "\n",
    "import math\n",
    "def calculateProbability(x, mean, stdev):\n",
    "    '''prob of feature given class label'''\n",
    "    exponent = math.exp(-(math.pow(x-mean,2)/(2*math.pow(stdev,2))))\n",
    "    return (1 / (math.sqrt(2*math.pi) * stdev)) * exponent\n",
    "\n",
    "def probOfClass(datapt , df):   # means given data point values u find prob of tht point belonging this class\n",
    "    ''' will return prob of class label given features'''\n",
    "    pr = 1\n",
    "    meanVector = findMeanVector(df)\n",
    "    stdVector = findStdVector(df)\n",
    "    for i in range(0,4):    # 4 features\n",
    "        pr *= calculateProbability(datapt.iat[0,i],meanVector[i],stdVector[i])\n",
    "    return pr"
   ]
  },
  {
   "cell_type": "code",
   "execution_count": 39,
   "metadata": {},
   "outputs": [
    {
     "name": "stdout",
     "output_type": "stream",
     "text": [
      "      sl   sw   pl   pw     species\n",
      "46   5.1  3.8  1.6  0.2      setosa\n",
      "111  6.4  2.7  5.3  1.9   virginica\n",
      "25   5.0  3.0  1.6  0.2      setosa\n",
      "13   4.3  3.0  1.1  0.1      setosa\n",
      "55   5.7  2.8  4.5  1.3  versicolor\n",
      "setosa        36\n",
      "versicolor    34\n",
      "virginica     30\n",
      "Name: species, dtype: int64\n"
     ]
    }
   ],
   "source": [
    "from sklearn.cross_validation import train_test_split\n",
    "\n",
    "#features = irisDf.values[:,:4]    # till 3rd column means exclusive of 4th coln whch is target\n",
    "#target = irisDf.values[:,4]       # these are the target values or labels\n",
    "  \n",
    "#slicing data\n",
    "#features_train, features_test, target_train, target_test = train_test_split(features,\n",
    "#                                                                   target, test_size = 0.33, random_state = 10)\n",
    "\n",
    "    \n",
    "# this will give dataframes as output of splitting \n",
    "traindf,testdf = train_test_split(irisDf,test_size=0.33)\n",
    "print(traindf.head())\n",
    "print(traindf['species'].value_counts())\n",
    "#len(features_train)"
   ]
  },
  {
   "cell_type": "code",
   "execution_count": 40,
   "metadata": {},
   "outputs": [
    {
     "data": {
      "text/html": [
       "<div>\n",
       "<style>\n",
       "    .dataframe thead tr:only-child th {\n",
       "        text-align: right;\n",
       "    }\n",
       "\n",
       "    .dataframe thead th {\n",
       "        text-align: left;\n",
       "    }\n",
       "\n",
       "    .dataframe tbody tr th {\n",
       "        vertical-align: top;\n",
       "    }\n",
       "</style>\n",
       "<table border=\"1\" class=\"dataframe\">\n",
       "  <thead>\n",
       "    <tr style=\"text-align: right;\">\n",
       "      <th></th>\n",
       "      <th>sl</th>\n",
       "      <th>sw</th>\n",
       "      <th>pl</th>\n",
       "      <th>pw</th>\n",
       "      <th>species</th>\n",
       "    </tr>\n",
       "  </thead>\n",
       "  <tbody>\n",
       "    <tr>\n",
       "      <th>50</th>\n",
       "      <td>7.0</td>\n",
       "      <td>3.2</td>\n",
       "      <td>4.7</td>\n",
       "      <td>1.4</td>\n",
       "      <td>versicolor</td>\n",
       "    </tr>\n",
       "    <tr>\n",
       "      <th>129</th>\n",
       "      <td>7.2</td>\n",
       "      <td>3.0</td>\n",
       "      <td>5.8</td>\n",
       "      <td>1.6</td>\n",
       "      <td>virginica</td>\n",
       "    </tr>\n",
       "    <tr>\n",
       "      <th>138</th>\n",
       "      <td>6.0</td>\n",
       "      <td>3.0</td>\n",
       "      <td>4.8</td>\n",
       "      <td>1.8</td>\n",
       "      <td>virginica</td>\n",
       "    </tr>\n",
       "    <tr>\n",
       "      <th>83</th>\n",
       "      <td>6.0</td>\n",
       "      <td>2.7</td>\n",
       "      <td>5.1</td>\n",
       "      <td>1.6</td>\n",
       "      <td>versicolor</td>\n",
       "    </tr>\n",
       "    <tr>\n",
       "      <th>121</th>\n",
       "      <td>5.6</td>\n",
       "      <td>2.8</td>\n",
       "      <td>4.9</td>\n",
       "      <td>2.0</td>\n",
       "      <td>virginica</td>\n",
       "    </tr>\n",
       "  </tbody>\n",
       "</table>\n",
       "</div>"
      ],
      "text/plain": [
       "      sl   sw   pl   pw     species\n",
       "50   7.0  3.2  4.7  1.4  versicolor\n",
       "129  7.2  3.0  5.8  1.6   virginica\n",
       "138  6.0  3.0  4.8  1.8   virginica\n",
       "83   6.0  2.7  5.1  1.6  versicolor\n",
       "121  5.6  2.8  4.9  2.0   virginica"
      ]
     },
     "execution_count": 40,
     "metadata": {},
     "output_type": "execute_result"
    }
   ],
   "source": [
    "# seperate data by class\n",
    "virdf = traindf.loc[traindf['species'] == \"virginica\"]\n",
    "verdf = traindf.loc[traindf['species'] == \"versicolor\"]\n",
    "setdf = traindf.loc[traindf['species'] == \"setosa\"]\n",
    "\n",
    "#virdf.head()\n",
    "testdf.head()"
   ]
  },
  {
   "cell_type": "code",
   "execution_count": 41,
   "metadata": {},
   "outputs": [
    {
     "name": "stdout",
     "output_type": "stream",
     "text": [
      "versicolor\n"
     ]
    },
    {
     "name": "stderr",
     "output_type": "stream",
     "text": [
      "C:\\ProgramData\\Anaconda3\\lib\\site-packages\\ipykernel_launcher.py:9: DeprecationWarning: \n",
      ".ix is deprecated. Please use\n",
      ".loc for label based indexing or\n",
      ".iloc for positional indexing\n",
      "\n",
      "See the documentation here:\n",
      "http://pandas.pydata.org/pandas-docs/stable/indexing.html#ix-indexer-is-deprecated\n",
      "  if __name__ == '__main__':\n"
     ]
    }
   ],
   "source": [
    "# defining a function to predict a class label\n",
    "\n",
    "def predictClassLabel(datapt):\n",
    "    '''predicts the class label for given data point'''\n",
    "    pr_vir = probOfClass(datapt,virdf)\n",
    "    pr_ver = probOfClass(datapt,verdf)\n",
    "    pr_set = probOfClass(datapt,setdf)\n",
    "    \n",
    "    m = max(pr_vir,pr_ver,pr_set)\n",
    "    if(m == pr_vir):\n",
    "        return \"virginica\"\n",
    "    elif(m == pr_ver): \n",
    "        return \"versicolor\"\n",
    "    else: \n",
    "        return \"setosa\"\n",
    "\n",
    "print(predictClassLabel(testdf.iloc[0:1,0:4]))\n",
    "#testdf.iloc[1:2,0:5]        #first one is slicing row wise , scnd is slicing coln wise\n",
    "#testdf.iloc[0]['species']   # to find val at a cell of df : by giving row index and column name respctvly"
   ]
  },
  {
   "cell_type": "code",
   "execution_count": 44,
   "metadata": {},
   "outputs": [
    {
     "name": "stdout",
     "output_type": "stream",
     "text": [
      "0.96\n",
      "accuracy from scratch is same as accracy of sklearn naive bayes algo, which we showed below\n",
      "training time is : 0.004525184631347656 seconds\n"
     ]
    }
   ],
   "source": [
    "#lets find accuracy : predict class labels for all test instances and then compare both of them\n",
    "\n",
    "import time\n",
    "\n",
    "def findAccuracy(testdf):\n",
    "    '''find accurcay of an algorithm'''\n",
    "    count =0\n",
    "    total =0\n",
    "\n",
    "    for i in range(0,len(testdf)):\n",
    "        prediction = predictClassLabel(testdf.iloc[i:i+1,0:4])       # taking row by row without label \n",
    "\n",
    "        if(prediction == testdf.iloc[i]['species']):            # comparing predicted label with actual label\n",
    "            count += 1\n",
    "\n",
    "        total += 1\n",
    "\n",
    "    return count/total\n",
    "\n",
    "print(findAccuracy(testdf))\n",
    "\n",
    "print(\"accuracy from scratch is same as accracy of sklearn naive bayes algo, which we showed below\")\n",
    "\n",
    "# finding training time\n",
    "\n",
    "t0 = time.time()\n",
    "predictClassLabel(testdf.iloc[0:1,0:4])\n",
    "print(\"training time is :\" , str(time.time()-t0),\"seconds\")"
   ]
  },
  {
   "cell_type": "code",
   "execution_count": null,
   "metadata": {
    "collapsed": true
   },
   "outputs": [],
   "source": [
    "# by plotting below we can see that feature is following gaussian distribution for each class\n",
    "# we can look for the same using a histogram"
   ]
  },
  {
   "cell_type": "code",
   "execution_count": null,
   "metadata": {},
   "outputs": [],
   "source": [
    "sns.FacetGrid(irisDf, hue=\"species\", size=3) \\\n",
    "   .map(sns.distplot, \"pw\") \\\n",
    "    .add_legend();\n",
    "plt.show();                  # here sns.distplot means we are plotting a distribution of petal width\n",
    "  "
   ]
  },
  {
   "cell_type": "code",
   "execution_count": null,
   "metadata": {},
   "outputs": [],
   "source": [
    "sns.FacetGrid(irisDf, hue=\"species\", size=3) \\\n",
    "   .map(sns.distplot, \"sl\") \\\n",
    "    .add_legend();\n",
    "plt.show();                  # here sns.distplot means we are plotting a distribution of sepal length\n",
    "  "
   ]
  },
  {
   "cell_type": "code",
   "execution_count": null,
   "metadata": {},
   "outputs": [],
   "source": [
    "sns.FacetGrid(irisDf, hue=\"species\", size=3) \\\n",
    "   .map(sns.distplot, \"sw\") \\\n",
    "    .add_legend();\n",
    "plt.show();                  # here sns.distplot means we are plotting a distribution of sepal width\n",
    "  "
   ]
  },
  {
   "cell_type": "code",
   "execution_count": null,
   "metadata": {},
   "outputs": [],
   "source": [
    "#histogram for whole dataset : this is of no sense as we are not distinguishing\n",
    "\n",
    "%matplotlib inline\n",
    "import matplotlib.pyplot as plt\n",
    "irisDf.hist(bins=50, figsize=(10,5))\n",
    "plt.show()"
   ]
  },
  {
   "cell_type": "code",
   "execution_count": null,
   "metadata": {
    "collapsed": true
   },
   "outputs": [],
   "source": [
    "from sklearn.cross_validation import train_test_split\n",
    "\n",
    "# To model the Gaussian Navie Bayes classifier\n",
    "from sklearn.naive_bayes import GaussianNB\n",
    "\n",
    "# To calculate the accuracy score of the model\n",
    "from sklearn.metrics import accuracy_score"
   ]
  },
  {
   "cell_type": "code",
   "execution_count": null,
   "metadata": {
    "collapsed": true
   },
   "outputs": [],
   "source": [
    "features = irisDf.values[:,:4]    # till 3rd column means exclusive of 4th coln whch is target\n",
    "target = irisDf.values[:,4]       # these are the target values or labels\n",
    "  \n",
    "#slicing data\n",
    "features_train, features_test, target_train, target_test = train_test_split(features, target, test_size = 0.33, random_state = 10)"
   ]
  },
  {
   "cell_type": "code",
   "execution_count": null,
   "metadata": {
    "collapsed": true
   },
   "outputs": [],
   "source": [
    "model = GaussianNB()        # so we are using a guassian naive bayes model\n",
    "model.fit(features_train, target_train)        # trainig the model using training data : features and labels\n",
    "target_pred = model.predict(features_test)       # predicting labels for test data"
   ]
  },
  {
   "cell_type": "code",
   "execution_count": null,
   "metadata": {},
   "outputs": [],
   "source": [
    "accuracy_score(target_test, target_pred, normalize = True)       # evaluation of our algorithm"
   ]
  },
  {
   "cell_type": "code",
   "execution_count": null,
   "metadata": {},
   "outputs": [],
   "source": [
    "print(target_pred)"
   ]
  },
  {
   "cell_type": "code",
   "execution_count": null,
   "metadata": {
    "collapsed": true
   },
   "outputs": [],
   "source": [
    "# replacing class labels with values\n",
    "#irisDf2 = irisDf.replace('versicolor',0).replace('virginica',1).replace('setosa',2) \n",
    "#irisDf2['species'].value_counts()"
   ]
  }
 ],
 "metadata": {
  "kernelspec": {
   "display_name": "Python 3",
   "language": "python",
   "name": "python3"
  },
  "language_info": {
   "codemirror_mode": {
    "name": "ipython",
    "version": 3
   },
   "file_extension": ".py",
   "mimetype": "text/x-python",
   "name": "python",
   "nbconvert_exporter": "python",
   "pygments_lexer": "ipython3",
   "version": "3.6.3"
  }
 },
 "nbformat": 4,
 "nbformat_minor": 2
}
